{
 "cells": [
  {
   "cell_type": "code",
   "execution_count": 2,
   "metadata": {},
   "outputs": [],
   "source": [
    "#!/usr/bin/env python3\n",
    "# -*- coding: utf-8 -*-\n",
    "\n",
    "from psychopy import  gui, visual, core, data, event, logging\n",
    "from time import strftime\n",
    "import pandas as pd\n",
    "from random import choice\n",
    "from numpy.random import choice as choice2\n",
    "import numpy as np\n",
    "import random\n",
    "import csv\n",
    "import pandas\n",
    "import matplotlib\n",
    "import matplotlib.pyplot as plt\n",
    "from psychopy.tools.filetools import fromFile\n",
    "import pylab\n",
    "import os\n",
    "from operator import truediv\n",
    "\n",
    "#Open Dialog for file\n",
    "files = gui.fileOpenDlg('./results/')\n",
    "file = files[0]\n",
    "\n",
    "\n",
    "full_filename = os.path.splitext(os.path.basename(file))\n",
    "filename = full_filename[0]\n",
    "\n",
    "save_dir = os.path.dirname(file)\n",
    "data = pandas.read_csv(file)\n",
    "\n"
   ]
  },
  {
   "cell_type": "code",
   "execution_count": 8,
   "metadata": {},
   "outputs": [
    {
     "data": {
      "text/plain": [
       "trial_type  strength\n",
       "catch       catch       100.0\n",
       "go          strong      100.0\n",
       "            weak        100.0\n",
       "nogo        strong       10.0\n",
       "            weak         30.0\n",
       "Name: correct, dtype: float64"
      ]
     },
     "execution_count": 8,
     "metadata": {},
     "output_type": "execute_result"
    }
   ],
   "source": [
    "clean_data = data[data['correct'] != 'Rest']\n",
    "only_correct = clean_data[clean_data['correct'] == '1'].groupby(['trial_type','strength']).count()\n",
    "all_data = clean_data.groupby(['trial_type','strength']).count()\n",
    "percentages_correct = only_correct/all_data\n",
    "percentages_correct['correct'] * 100"
   ]
  },
  {
   "cell_type": "code",
   "execution_count": null,
   "metadata": {},
   "outputs": [],
   "source": []
  }
 ],
 "metadata": {
  "kernelspec": {
   "display_name": "Python 3",
   "language": "python",
   "name": "python3"
  },
  "language_info": {
   "codemirror_mode": {
    "name": "ipython",
    "version": 3
   },
   "file_extension": ".py",
   "mimetype": "text/x-python",
   "name": "python",
   "nbconvert_exporter": "python",
   "pygments_lexer": "ipython3",
   "version": "3.7.3"
  }
 },
 "nbformat": 4,
 "nbformat_minor": 2
}
