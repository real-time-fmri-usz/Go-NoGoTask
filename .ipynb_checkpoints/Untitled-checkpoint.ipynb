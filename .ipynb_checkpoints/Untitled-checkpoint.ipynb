{
 "cells": [
  {
   "cell_type": "code",
   "execution_count": 24,
   "metadata": {},
   "outputs": [],
   "source": [
    "#!/usr/bin/env python3\n",
    "# -*- coding: utf-8 -*-\n",
    "\n",
    "from psychopy import  gui, visual, core, data, event, logging\n",
    "from time import strftime\n",
    "import pandas as pd\n",
    "from random import choice\n",
    "from numpy.random import choice as choice2\n",
    "import numpy as np\n",
    "import random\n",
    "import csv\n",
    "import pandas\n",
    "import matplotlib\n",
    "import matplotlib.pyplot as plt\n",
    "from psychopy.tools.filetools import fromFile\n",
    "import pylab\n",
    "import os\n",
    "from operator import truediv\n",
    "\n",
    "#Open Dialog for file\n",
    "files = gui.fileOpenDlg('./results/')\n",
    "file = files[0]\n",
    "\n",
    "\n",
    "full_filename = os.path.splitext(os.path.basename(file))\n",
    "filename = full_filename[0]\n",
    "\n",
    "save_dir = os.path.dirname(file)\n",
    "data = pandas.read_csv(file)\n",
    "\n",
    "clean_data = data[data['correct'] != 'Rest']\n",
    "only_correct = clean_data[clean_data['correct'] == '1'].groupby(['trial_type','strength']).count()\n",
    "all_data = clean_data.groupby(['trial_type','strength']).count()\n",
    "print('Number of all trials')\n",
    "print(all_data['correct'])\n",
    "print('')\n",
    "print('Number of correct Trials')\n",
    "print(only_correct['correct'])\n",
    "core.quit()"
   ]
  },
  {
   "cell_type": "code",
   "execution_count": 60,
   "metadata": {},
   "outputs": [
    {
     "name": "stdout",
     "output_type": "stream",
     "text": [
      "Number of all trials\n",
      "trial_type  strength\n",
      "catch       catch        5\n",
      "go          strong      10\n",
      "            weak        10\n",
      "nogo        strong      10\n",
      "            weak        10\n",
      "Name: correct, dtype: int64\n",
      "\n",
      "Number of correct Trials\n",
      "trial_type  strength\n",
      "catch       catch        5\n",
      "go          strong      10\n",
      "            weak        10\n",
      "nogo        strong       1\n",
      "            weak         3\n",
      "Name: correct, dtype: int64\n"
     ]
    }
   ],
   "source": []
  },
  {
   "cell_type": "code",
   "execution_count": null,
   "metadata": {},
   "outputs": [],
   "source": []
  }
 ],
 "metadata": {
  "kernelspec": {
   "display_name": "Python 3",
   "language": "python",
   "name": "python3"
  },
  "language_info": {
   "codemirror_mode": {
    "name": "ipython",
    "version": 3
   },
   "file_extension": ".py",
   "mimetype": "text/x-python",
   "name": "python",
   "nbconvert_exporter": "python",
   "pygments_lexer": "ipython3",
   "version": "3.7.3"
  }
 },
 "nbformat": 4,
 "nbformat_minor": 2
}
